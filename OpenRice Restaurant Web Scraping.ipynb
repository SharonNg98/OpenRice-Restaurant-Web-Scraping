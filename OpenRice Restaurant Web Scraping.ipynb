{
 "cells": [
  {
   "cell_type": "markdown",
   "metadata": {},
   "source": [
    "# OpenRice Restaurant Web Scraping\n",
    "This project aims to scrape info about OpenRice's selected restaurants (i.e. based in Mong Kok, sells Japanese sushi/sashimi and price below $50)."
   ]
  },
  {
   "cell_type": "code",
   "execution_count": null,
   "metadata": {},
   "outputs": [],
   "source": [
    "# Import libraries\n",
    "from bs4 import BeautifulSoup as bs\n",
    "import requests\n",
    "import csv"
   ]
  },
  {
   "cell_type": "code",
   "execution_count": null,
   "metadata": {},
   "outputs": [],
   "source": [
    "# Connect to website and pull in data\n",
    "url = 'https://www.openrice.com/en/hongkong/restaurants?cuisineId=2009&dishId=1034&districtId=2010&priceRangeId=1'\n",
    "\n",
    "# Copy from httpbin.org/get\n",
    "# Dictionary of HTTP Headers to send with the Request\n",
    "headers = {\"User-Agent\": \"Mozilla/5.0 (Windows NT 10.0; Win64; x64) AppleWebKit/537.36 (KHTML, like Gecko) Chrome/78.0.3904.108 Safari/537.36\", \"Accept-Encoding\":\"gzip, deflate\", \"Accept\":\"text/html,application/xhtml+xml,application/xml;q=0.9,*/*;q=0.8\", \"DNT\":\"1\",\"Connection\":\"close\", \"Upgrade-Insecure-Requests\":\"1\"}\n",
    "\n",
    "page = requests.get(url, headers=headers)\n",
    "\n",
    "# We can print out the HTML content of the page using the content property\n",
    "soup1 = bs(page.content, 'html.parser')\n",
    "soup2 = bs(soup1.prettify(), 'html.parser') # prettify makes html codes look formatted\n",
    "\n",
    "#print(soup2)"
   ]
  },
  {
   "cell_type": "code",
   "execution_count": null,
   "metadata": {},
   "outputs": [],
   "source": [
    "# Parse cellular blocks containing all info\n",
    "blocks = soup2.find_all('div', class_='content-cell-wrapper')\n",
    "\n",
    "#print(blocks)"
   ]
  },
  {
   "cell_type": "code",
   "execution_count": null,
   "metadata": {
    "scrolled": true
   },
   "outputs": [],
   "source": [
    "# Write the file (USE ONLY ONCE!!!)\n",
    "header = ['Restaurant Name', 'Address', 'District', 'Price Range', 'Dish Type', 'Restaurant Type']\n",
    "\n",
    "with open(\"OpenRice Restaurant Web Scraping.txt\", 'w', newline='', encoding='utf-8') as f:\n",
    "    writer = csv.writer(f)\n",
    "    writer.writerow(header)\n",
    "\n",
    "# Parse names, addresses, districts, price range, dish types, restaurant types\n",
    "for block in blocks:\n",
    "    name = block.find('h2', class_='title-name').a.text.strip()\n",
    "    \n",
    "    # Filter out relocated stores\n",
    "    if '(Moved)' not in name:\n",
    "        address = block.find('div', class_='icon-info address').span.text.strip()\n",
    "        district = block.find('div', class_='icon-info address').span.a.text.strip()\n",
    "        price_range = block.find('div', class_='icon-info icon-info-food-price').span.text.strip()\n",
    "        dish = block.find('ul', class_='pois-categoryui-list').text.strip()[-13:] # brute force slicing\n",
    "        # unknown reason about why there are two <li> tags but only the first can be displayed\n",
    "        restaurant = block.find('ul', class_='pois-categoryui-list').li.a.text.strip()\n",
    "\n",
    "        # Filter out sponsored blocks and are not wanted results\n",
    "        if 'Sushi/Sashimi' in dish:\n",
    "            data = [name, address, district, price_range, dish, restaurant]\n",
    "            \n",
    "            # Append rows to the txt file\n",
    "            # csv file cannot read Chinese characters, that's the problem of Excel\n",
    "            # To load correct Chinese characters in Excel, refer to method 2 in https://www.accompa.com/kb/answer.html?answer_id=264\n",
    "            with open(\"OpenRice Restaurant Web Scraping.txt\", 'a+', newline='', encoding='utf-8') as f:\n",
    "                writer = csv.writer(f)\n",
    "                writer.writerow(data)"
   ]
  }
 ],
 "metadata": {
  "kernelspec": {
   "display_name": "Python 3",
   "language": "python",
   "name": "python3"
  },
  "language_info": {
   "codemirror_mode": {
    "name": "ipython",
    "version": 3
   },
   "file_extension": ".py",
   "mimetype": "text/x-python",
   "name": "python",
   "nbconvert_exporter": "python",
   "pygments_lexer": "ipython3",
   "version": "3.8.3"
  }
 },
 "nbformat": 4,
 "nbformat_minor": 4
}
